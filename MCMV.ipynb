{
  "nbformat": 4,
  "nbformat_minor": 0,
  "metadata": {
    "colab": {
      "name": "MCMV.ipynb",
      "provenance": [],
      "collapsed_sections": []
    },
    "kernelspec": {
      "name": "python3",
      "display_name": "Python 3"
    }
  },
  "cells": [
    {
      "cell_type": "markdown",
      "metadata": {
        "id": "pE0C_KE3IfIS",
        "colab_type": "text"
      },
      "source": [
        "## Programa minha casa minha vida"
      ]
    },
    {
      "cell_type": "markdown",
      "metadata": {
        "id": "ZxBwukuSH1OT",
        "colab_type": "text"
      },
      "source": [
        "### Dados do IBGE"
      ]
    },
    {
      "cell_type": "markdown",
      "metadata": {
        "id": "9guQjRjMI5G2",
        "colab_type": "text"
      },
      "source": [
        "### Recurso usado Google Colab"
      ]
    },
    {
      "cell_type": "code",
      "metadata": {
        "id": "oRNDiNZyQOC5",
        "colab_type": "code",
        "colab": {}
      },
      "source": [
        "import pandas as pd"
      ],
      "execution_count": null,
      "outputs": []
    },
    {
      "cell_type": "code",
      "metadata": {
        "id": "T9EsJrxbiFw9",
        "colab_type": "code",
        "colab": {}
      },
      "source": [
        "import cufflinks as cf\n",
        "from plotly.offline import plot, iplot\n",
        "import numpy as np\n",
        "import seaborn as sns\n",
        "import matplotlib.pyplot as plt\n",
        "import plotly.graph_objs as go\n",
        "import plotly.offline as py"
      ],
      "execution_count": null,
      "outputs": []
    },
    {
      "cell_type": "code",
      "metadata": {
        "id": "G-rofSHkQupl",
        "colab_type": "code",
        "colab": {}
      },
      "source": [
        "# Criar o arquivo dados com as informações disponíveis no arquivo MCMV.CSV\n",
        "dados = pd.read_csv('drive/My Drive/MCMV.csv', sep=';')"
      ],
      "execution_count": null,
      "outputs": []
    },
    {
      "cell_type": "code",
      "metadata": {
        "id": "wU2WIcd0RutX",
        "colab_type": "code",
        "colab": {
          "base_uri": "https://localhost:8080/",
          "height": 510
        },
        "outputId": "8e309e09-f757-4b48-df3c-d6dfc45e7039"
      },
      "source": [
        "# Arquivo com 20229 linhas e 22 colunas\n",
        "dados.info()"
      ],
      "execution_count": null,
      "outputs": [
        {
          "output_type": "stream",
          "text": [
            "<class 'pandas.core.frame.DataFrame'>\n",
            "RangeIndex: 20229 entries, 0 to 20228\n",
            "Data columns (total 22 columns):\n",
            " #   Column      Non-Null Count  Dtype  \n",
            "---  ------      --------------  -----  \n",
            " 0   FID         20229 non-null  object \n",
            " 1   UF          20229 non-null  object \n",
            " 2   COD_IBGE    20229 non-null  int64  \n",
            " 3   CAPITAIS    959 non-null    object \n",
            " 4   XCOORD      20229 non-null  float64\n",
            " 5   YCOORD      20229 non-null  float64\n",
            " 6   Municipio   20229 non-null  object \n",
            " 7   UF_1        0 non-null      float64\n",
            " 8   Faixa_de_r  20229 non-null  object \n",
            " 9   Produto     20229 non-null  object \n",
            " 10  UH          20229 non-null  int64  \n",
            " 11  Valor       20229 non-null  float64\n",
            " 12  Concluidas  20229 non-null  int64  \n",
            " 13  Entregues   20229 non-null  int64  \n",
            " 14  Sub_FGTS    20229 non-null  float64\n",
            " 15  Sub_OGU     20229 non-null  float64\n",
            " 16  Percentual  20229 non-null  float64\n",
            " 17  IF          20229 non-null  object \n",
            " 18  PMCMV       20229 non-null  int64  \n",
            " 19  Faixa       20228 non-null  object \n",
            " 20  UH_CONC     20229 non-null  int64  \n",
            " 21  the_geom    20229 non-null  object \n",
            "dtypes: float64(7), int64(6), object(9)\n",
            "memory usage: 3.4+ MB\n"
          ],
          "name": "stdout"
        }
      ]
    },
    {
      "cell_type": "markdown",
      "metadata": {
        "id": "ndAcwW3o4iwM",
        "colab_type": "text"
      },
      "source": [
        "### O programa minha casa minha vida atende 03 Faixas de renda.\n",
        "### O território brasileiro contém 5270 municípios e 27 unidades federativas."
      ]
    },
    {
      "cell_type": "code",
      "metadata": {
        "id": "6-X8TykciGsF",
        "colab_type": "code",
        "colab": {}
      },
      "source": [
        "# Renomear algumas colunas do arquivo dados.\n",
        "dados.rename(columns={'FID': 'ID_MCMV','XCOORD': 'Latitude', 'YCOORD':'Longitude','Faixa_de_r': 'Faixa_de_renda','UH': 'Unidades', 'UH_CONC': 'Construindo'}, inplace=True)\n",
        "dados.head(2)"
      ],
      "execution_count": null,
      "outputs": []
    },
    {
      "cell_type": "code",
      "metadata": {
        "id": "4Jq5eUNk5aX1",
        "colab_type": "code",
        "colab": {}
      },
      "source": [
        "# Cirar o arquivo Faixa_de_renda - agrupando algumas colunas por \"Faixa_de_renda\"\n",
        "Faixa_de_renda = dados[['Faixa_de_renda','Unidades','Valor','Concluidas', 'Entregues',]].groupby(dados['Faixa_de_renda']).sum()"
      ],
      "execution_count": null,
      "outputs": []
    },
    {
      "cell_type": "code",
      "metadata": {
        "id": "sZUhDXbqQeWH",
        "colab_type": "code",
        "colab": {}
      },
      "source": [
        "# Criar o arquivo municipios1 agrupando as colunas \"COD_IBGE\" e \"Municipio\" por \"COD_IBGE\"\n",
        "municipios1 = dados[['COD_IBGE','Municipio']].groupby(dados['COD_IBGE']).sum()"
      ],
      "execution_count": null,
      "outputs": []
    },
    {
      "cell_type": "code",
      "metadata": {
        "id": "K_UlaZrySQyU",
        "colab_type": "code",
        "colab": {}
      },
      "source": [
        "# Criar o arquivo municipios para eliminar municípios duplicados\n",
        "municipios = municipios1.dropna().drop_duplicates()"
      ],
      "execution_count": null,
      "outputs": []
    },
    {
      "cell_type": "code",
      "metadata": {
        "id": "jLLNGDzPTxrQ",
        "colab_type": "code",
        "colab": {}
      },
      "source": [
        "# Criar o arquivo estados - agrupando algumas colunas por \"UF\"\n",
        "estados = dados[['Unidades', 'Valor','CAPITAIS', 'Concluidas', 'Entregues',]].groupby(dados['UF']).sum()"
      ],
      "execution_count": null,
      "outputs": []
    },
    {
      "cell_type": "code",
      "metadata": {
        "id": "v02EEroD1VH4",
        "colab_type": "code",
        "colab": {}
      },
      "source": [
        "# Criar o arquivo estadosloc com as colunas \"UF\", \"CAPITAIS\", \"Latitude\", \"Longitude\"\n",
        "estadosloc = dados[['UF','CAPITAIS','Latitude', 'Longitude']]"
      ],
      "execution_count": null,
      "outputs": []
    },
    {
      "cell_type": "code",
      "metadata": {
        "id": "IclEVFNl3uFd",
        "colab_type": "code",
        "colab": {}
      },
      "source": [
        "# Criar o arquivo geom para eliminar \"Latitude\" e \"Longitude\" duplicadas.\n",
        "geom = estadosloc.dropna().drop_duplicates()"
      ],
      "execution_count": null,
      "outputs": []
    },
    {
      "cell_type": "code",
      "metadata": {
        "id": "UyrfuQFqctTI",
        "colab_type": "code",
        "colab": {}
      },
      "source": [
        "# Criar o arquivo \"arquivo\" para unir os arquivos \"estados\" e \"geom\"\n",
        "arquivo = estados.merge(geom, on='UF', how='left')"
      ],
      "execution_count": null,
      "outputs": []
    },
    {
      "cell_type": "code",
      "metadata": {
        "id": "-HEHRW3N8nWP",
        "colab_type": "code",
        "colab": {
          "base_uri": "https://localhost:8080/",
          "height": 173
        },
        "outputId": "a73584e6-2c84-413b-8e6d-b9efdb0feb13"
      },
      "source": [
        "# Unidades por faixa de renda.\n",
        "Faixa_de_renda.head()"
      ],
      "execution_count": null,
      "outputs": [
        {
          "output_type": "execute_result",
          "data": {
            "text/html": [
              "<div>\n",
              "<style scoped>\n",
              "    .dataframe tbody tr th:only-of-type {\n",
              "        vertical-align: middle;\n",
              "    }\n",
              "\n",
              "    .dataframe tbody tr th {\n",
              "        vertical-align: top;\n",
              "    }\n",
              "\n",
              "    .dataframe thead th {\n",
              "        text-align: right;\n",
              "    }\n",
              "</style>\n",
              "<table border=\"1\" class=\"dataframe\">\n",
              "  <thead>\n",
              "    <tr style=\"text-align: right;\">\n",
              "      <th></th>\n",
              "      <th>Unidades</th>\n",
              "      <th>Valor</th>\n",
              "      <th>Concluidas</th>\n",
              "      <th>Entregues</th>\n",
              "    </tr>\n",
              "    <tr>\n",
              "      <th>Faixa_de_renda</th>\n",
              "      <th></th>\n",
              "      <th></th>\n",
              "      <th></th>\n",
              "      <th></th>\n",
              "    </tr>\n",
              "  </thead>\n",
              "  <tbody>\n",
              "    <tr>\n",
              "      <th>Faixa 1</th>\n",
              "      <td>797224</td>\n",
              "      <td>3.479972e+10</td>\n",
              "      <td>380740</td>\n",
              "      <td>288283</td>\n",
              "    </tr>\n",
              "    <tr>\n",
              "      <th>Faixa 2</th>\n",
              "      <td>569795</td>\n",
              "      <td>4.024637e+10</td>\n",
              "      <td>325350</td>\n",
              "      <td>286921</td>\n",
              "    </tr>\n",
              "    <tr>\n",
              "      <th>Faixa 3</th>\n",
              "      <td>184001</td>\n",
              "      <td>1.426298e+10</td>\n",
              "      <td>62754</td>\n",
              "      <td>34848</td>\n",
              "    </tr>\n",
              "  </tbody>\n",
              "</table>\n",
              "</div>"
            ],
            "text/plain": [
              "                Unidades         Valor  Concluidas  Entregues\n",
              "Faixa_de_renda                                               \n",
              "Faixa 1           797224  3.479972e+10      380740     288283\n",
              "Faixa 2           569795  4.024637e+10      325350     286921\n",
              "Faixa 3           184001  1.426298e+10       62754      34848"
            ]
          },
          "metadata": {
            "tags": []
          },
          "execution_count": 13
        }
      ]
    },
    {
      "cell_type": "code",
      "metadata": {
        "id": "7hp4t6oG82zY",
        "colab_type": "code",
        "colab": {
          "base_uri": "https://localhost:8080/",
          "height": 906
        },
        "outputId": "22ffc2e1-0ff0-435a-ae64-d7ce190909f6"
      },
      "source": [
        "# Estados atendidos pelo Programa minha casa minha vida.\n",
        "arquivo.head(28)"
      ],
      "execution_count": null,
      "outputs": [
        {
          "output_type": "execute_result",
          "data": {
            "text/html": [
              "<div>\n",
              "<style scoped>\n",
              "    .dataframe tbody tr th:only-of-type {\n",
              "        vertical-align: middle;\n",
              "    }\n",
              "\n",
              "    .dataframe tbody tr th {\n",
              "        vertical-align: top;\n",
              "    }\n",
              "\n",
              "    .dataframe thead th {\n",
              "        text-align: right;\n",
              "    }\n",
              "</style>\n",
              "<table border=\"1\" class=\"dataframe\">\n",
              "  <thead>\n",
              "    <tr style=\"text-align: right;\">\n",
              "      <th></th>\n",
              "      <th>UF</th>\n",
              "      <th>Unidades</th>\n",
              "      <th>Valor</th>\n",
              "      <th>Concluidas</th>\n",
              "      <th>Entregues</th>\n",
              "      <th>CAPITAIS</th>\n",
              "      <th>Latitude</th>\n",
              "      <th>Longitude</th>\n",
              "    </tr>\n",
              "  </thead>\n",
              "  <tbody>\n",
              "    <tr>\n",
              "      <th>0</th>\n",
              "      <td>AC</td>\n",
              "      <td>3844</td>\n",
              "      <td>2.136992e+08</td>\n",
              "      <td>2048</td>\n",
              "      <td>1271</td>\n",
              "      <td>Capital</td>\n",
              "      <td>-67.8100</td>\n",
              "      <td>-9.974720</td>\n",
              "    </tr>\n",
              "    <tr>\n",
              "      <th>1</th>\n",
              "      <td>AL</td>\n",
              "      <td>53149</td>\n",
              "      <td>2.526037e+09</td>\n",
              "      <td>12565</td>\n",
              "      <td>11159</td>\n",
              "      <td>Capital</td>\n",
              "      <td>-35.7353</td>\n",
              "      <td>-9.665830</td>\n",
              "    </tr>\n",
              "    <tr>\n",
              "      <th>2</th>\n",
              "      <td>AM</td>\n",
              "      <td>22348</td>\n",
              "      <td>1.253980e+09</td>\n",
              "      <td>1394</td>\n",
              "      <td>905</td>\n",
              "      <td>Capital</td>\n",
              "      <td>-60.0250</td>\n",
              "      <td>-3.101940</td>\n",
              "    </tr>\n",
              "    <tr>\n",
              "      <th>3</th>\n",
              "      <td>AP</td>\n",
              "      <td>4056</td>\n",
              "      <td>2.223396e+08</td>\n",
              "      <td>30</td>\n",
              "      <td>30</td>\n",
              "      <td>Capital</td>\n",
              "      <td>-51.0664</td>\n",
              "      <td>0.033333</td>\n",
              "    </tr>\n",
              "    <tr>\n",
              "      <th>4</th>\n",
              "      <td>BA</td>\n",
              "      <td>131642</td>\n",
              "      <td>6.076536e+09</td>\n",
              "      <td>53816</td>\n",
              "      <td>34563</td>\n",
              "      <td>Capital</td>\n",
              "      <td>-38.5108</td>\n",
              "      <td>-12.971100</td>\n",
              "    </tr>\n",
              "    <tr>\n",
              "      <th>5</th>\n",
              "      <td>CE</td>\n",
              "      <td>34088</td>\n",
              "      <td>1.681463e+09</td>\n",
              "      <td>14477</td>\n",
              "      <td>10306</td>\n",
              "      <td>Capital</td>\n",
              "      <td>-38.5431</td>\n",
              "      <td>-3.717220</td>\n",
              "    </tr>\n",
              "    <tr>\n",
              "      <th>6</th>\n",
              "      <td>DF</td>\n",
              "      <td>7229</td>\n",
              "      <td>5.150368e+08</td>\n",
              "      <td>2960</td>\n",
              "      <td>1601</td>\n",
              "      <td>Capital</td>\n",
              "      <td>-47.9297</td>\n",
              "      <td>-15.779700</td>\n",
              "    </tr>\n",
              "    <tr>\n",
              "      <th>7</th>\n",
              "      <td>ES</td>\n",
              "      <td>23765</td>\n",
              "      <td>1.439481e+09</td>\n",
              "      <td>7476</td>\n",
              "      <td>5491</td>\n",
              "      <td>Capital</td>\n",
              "      <td>-40.3378</td>\n",
              "      <td>-20.319400</td>\n",
              "    </tr>\n",
              "    <tr>\n",
              "      <th>8</th>\n",
              "      <td>GO</td>\n",
              "      <td>93075</td>\n",
              "      <td>5.997944e+09</td>\n",
              "      <td>65561</td>\n",
              "      <td>59606</td>\n",
              "      <td>Capital</td>\n",
              "      <td>-49.2539</td>\n",
              "      <td>-16.678600</td>\n",
              "    </tr>\n",
              "    <tr>\n",
              "      <th>9</th>\n",
              "      <td>MA</td>\n",
              "      <td>58743</td>\n",
              "      <td>2.395717e+09</td>\n",
              "      <td>27288</td>\n",
              "      <td>14310</td>\n",
              "      <td>Capital</td>\n",
              "      <td>-44.3028</td>\n",
              "      <td>-2.529720</td>\n",
              "    </tr>\n",
              "    <tr>\n",
              "      <th>10</th>\n",
              "      <td>MG</td>\n",
              "      <td>147296</td>\n",
              "      <td>8.841857e+09</td>\n",
              "      <td>94685</td>\n",
              "      <td>77056</td>\n",
              "      <td>Capital</td>\n",
              "      <td>-43.9378</td>\n",
              "      <td>-19.920800</td>\n",
              "    </tr>\n",
              "    <tr>\n",
              "      <th>11</th>\n",
              "      <td>MS</td>\n",
              "      <td>28402</td>\n",
              "      <td>1.696611e+09</td>\n",
              "      <td>12799</td>\n",
              "      <td>11432</td>\n",
              "      <td>Capital</td>\n",
              "      <td>-54.6464</td>\n",
              "      <td>-20.442800</td>\n",
              "    </tr>\n",
              "    <tr>\n",
              "      <th>12</th>\n",
              "      <td>MT</td>\n",
              "      <td>36043</td>\n",
              "      <td>1.899563e+09</td>\n",
              "      <td>14674</td>\n",
              "      <td>12909</td>\n",
              "      <td>Capital</td>\n",
              "      <td>-56.0967</td>\n",
              "      <td>-15.596100</td>\n",
              "    </tr>\n",
              "    <tr>\n",
              "      <th>13</th>\n",
              "      <td>PA</td>\n",
              "      <td>50285</td>\n",
              "      <td>2.580205e+09</td>\n",
              "      <td>14139</td>\n",
              "      <td>7591</td>\n",
              "      <td>Capital</td>\n",
              "      <td>-48.5044</td>\n",
              "      <td>-1.455830</td>\n",
              "    </tr>\n",
              "    <tr>\n",
              "      <th>14</th>\n",
              "      <td>PB</td>\n",
              "      <td>27641</td>\n",
              "      <td>1.515798e+09</td>\n",
              "      <td>18613</td>\n",
              "      <td>16599</td>\n",
              "      <td>Capital</td>\n",
              "      <td>-34.8631</td>\n",
              "      <td>-7.115000</td>\n",
              "    </tr>\n",
              "    <tr>\n",
              "      <th>15</th>\n",
              "      <td>PE</td>\n",
              "      <td>60361</td>\n",
              "      <td>2.904192e+09</td>\n",
              "      <td>16724</td>\n",
              "      <td>14016</td>\n",
              "      <td>Capital</td>\n",
              "      <td>-34.8811</td>\n",
              "      <td>-8.053890</td>\n",
              "    </tr>\n",
              "    <tr>\n",
              "      <th>16</th>\n",
              "      <td>PI</td>\n",
              "      <td>31683</td>\n",
              "      <td>1.266141e+09</td>\n",
              "      <td>16368</td>\n",
              "      <td>11461</td>\n",
              "      <td>Capital</td>\n",
              "      <td>-42.8019</td>\n",
              "      <td>-5.089170</td>\n",
              "    </tr>\n",
              "    <tr>\n",
              "      <th>17</th>\n",
              "      <td>PR</td>\n",
              "      <td>106876</td>\n",
              "      <td>6.420708e+09</td>\n",
              "      <td>68653</td>\n",
              "      <td>62243</td>\n",
              "      <td>Capital</td>\n",
              "      <td>-49.2731</td>\n",
              "      <td>-25.427800</td>\n",
              "    </tr>\n",
              "    <tr>\n",
              "      <th>18</th>\n",
              "      <td>RJ</td>\n",
              "      <td>90720</td>\n",
              "      <td>5.942429e+09</td>\n",
              "      <td>32469</td>\n",
              "      <td>17996</td>\n",
              "      <td>Capital</td>\n",
              "      <td>-43.2075</td>\n",
              "      <td>-22.902800</td>\n",
              "    </tr>\n",
              "    <tr>\n",
              "      <th>19</th>\n",
              "      <td>RN</td>\n",
              "      <td>31726</td>\n",
              "      <td>1.588504e+09</td>\n",
              "      <td>18860</td>\n",
              "      <td>15416</td>\n",
              "      <td>Capital</td>\n",
              "      <td>-35.2094</td>\n",
              "      <td>-5.795000</td>\n",
              "    </tr>\n",
              "    <tr>\n",
              "      <th>20</th>\n",
              "      <td>RO</td>\n",
              "      <td>10141</td>\n",
              "      <td>4.854461e+08</td>\n",
              "      <td>3447</td>\n",
              "      <td>3034</td>\n",
              "      <td>Capital</td>\n",
              "      <td>-63.9039</td>\n",
              "      <td>-8.761950</td>\n",
              "    </tr>\n",
              "    <tr>\n",
              "      <th>21</th>\n",
              "      <td>RR</td>\n",
              "      <td>2351</td>\n",
              "      <td>1.038645e+08</td>\n",
              "      <td>1496</td>\n",
              "      <td>1496</td>\n",
              "      <td>Capital</td>\n",
              "      <td>-60.6733</td>\n",
              "      <td>2.816950</td>\n",
              "    </tr>\n",
              "    <tr>\n",
              "      <th>22</th>\n",
              "      <td>RS</td>\n",
              "      <td>116779</td>\n",
              "      <td>6.876162e+09</td>\n",
              "      <td>71521</td>\n",
              "      <td>64704</td>\n",
              "      <td>Capital</td>\n",
              "      <td>-51.2300</td>\n",
              "      <td>-30.033100</td>\n",
              "    </tr>\n",
              "    <tr>\n",
              "      <th>23</th>\n",
              "      <td>SC</td>\n",
              "      <td>56806</td>\n",
              "      <td>3.741971e+09</td>\n",
              "      <td>33723</td>\n",
              "      <td>30785</td>\n",
              "      <td>Capital</td>\n",
              "      <td>-48.5492</td>\n",
              "      <td>-27.596700</td>\n",
              "    </tr>\n",
              "    <tr>\n",
              "      <th>24</th>\n",
              "      <td>SE</td>\n",
              "      <td>17742</td>\n",
              "      <td>9.709569e+08</td>\n",
              "      <td>7943</td>\n",
              "      <td>5149</td>\n",
              "      <td>Capital</td>\n",
              "      <td>-37.0717</td>\n",
              "      <td>-10.911100</td>\n",
              "    </tr>\n",
              "    <tr>\n",
              "      <th>25</th>\n",
              "      <td>SP</td>\n",
              "      <td>292102</td>\n",
              "      <td>1.967513e+10</td>\n",
              "      <td>151389</td>\n",
              "      <td>115513</td>\n",
              "      <td>Capital</td>\n",
              "      <td>-46.6361</td>\n",
              "      <td>-23.547500</td>\n",
              "    </tr>\n",
              "    <tr>\n",
              "      <th>26</th>\n",
              "      <td>TO</td>\n",
              "      <td>12127</td>\n",
              "      <td>4.773049e+08</td>\n",
              "      <td>3726</td>\n",
              "      <td>3410</td>\n",
              "      <td>Capital</td>\n",
              "      <td>-48.3603</td>\n",
              "      <td>-10.212800</td>\n",
              "    </tr>\n",
              "  </tbody>\n",
              "</table>\n",
              "</div>"
            ],
            "text/plain": [
              "    UF  Unidades         Valor  ...  CAPITAIS  Latitude  Longitude\n",
              "0   AC      3844  2.136992e+08  ...   Capital  -67.8100  -9.974720\n",
              "1   AL     53149  2.526037e+09  ...   Capital  -35.7353  -9.665830\n",
              "2   AM     22348  1.253980e+09  ...   Capital  -60.0250  -3.101940\n",
              "3   AP      4056  2.223396e+08  ...   Capital  -51.0664   0.033333\n",
              "4   BA    131642  6.076536e+09  ...   Capital  -38.5108 -12.971100\n",
              "5   CE     34088  1.681463e+09  ...   Capital  -38.5431  -3.717220\n",
              "6   DF      7229  5.150368e+08  ...   Capital  -47.9297 -15.779700\n",
              "7   ES     23765  1.439481e+09  ...   Capital  -40.3378 -20.319400\n",
              "8   GO     93075  5.997944e+09  ...   Capital  -49.2539 -16.678600\n",
              "9   MA     58743  2.395717e+09  ...   Capital  -44.3028  -2.529720\n",
              "10  MG    147296  8.841857e+09  ...   Capital  -43.9378 -19.920800\n",
              "11  MS     28402  1.696611e+09  ...   Capital  -54.6464 -20.442800\n",
              "12  MT     36043  1.899563e+09  ...   Capital  -56.0967 -15.596100\n",
              "13  PA     50285  2.580205e+09  ...   Capital  -48.5044  -1.455830\n",
              "14  PB     27641  1.515798e+09  ...   Capital  -34.8631  -7.115000\n",
              "15  PE     60361  2.904192e+09  ...   Capital  -34.8811  -8.053890\n",
              "16  PI     31683  1.266141e+09  ...   Capital  -42.8019  -5.089170\n",
              "17  PR    106876  6.420708e+09  ...   Capital  -49.2731 -25.427800\n",
              "18  RJ     90720  5.942429e+09  ...   Capital  -43.2075 -22.902800\n",
              "19  RN     31726  1.588504e+09  ...   Capital  -35.2094  -5.795000\n",
              "20  RO     10141  4.854461e+08  ...   Capital  -63.9039  -8.761950\n",
              "21  RR      2351  1.038645e+08  ...   Capital  -60.6733   2.816950\n",
              "22  RS    116779  6.876162e+09  ...   Capital  -51.2300 -30.033100\n",
              "23  SC     56806  3.741971e+09  ...   Capital  -48.5492 -27.596700\n",
              "24  SE     17742  9.709569e+08  ...   Capital  -37.0717 -10.911100\n",
              "25  SP    292102  1.967513e+10  ...   Capital  -46.6361 -23.547500\n",
              "26  TO     12127  4.773049e+08  ...   Capital  -48.3603 -10.212800\n",
              "\n",
              "[27 rows x 8 columns]"
            ]
          },
          "metadata": {
            "tags": []
          },
          "execution_count": 14
        }
      ]
    },
    {
      "cell_type": "code",
      "metadata": {
        "id": "8oc9d7V6EXkE",
        "colab_type": "code",
        "colab": {
          "base_uri": "https://localhost:8080/",
          "height": 51
        },
        "outputId": "1bc72f1f-c9bc-4add-db11-3b215f22e577"
      },
      "source": [
        "# Municípios atendidos pelo Programa minha casa minha vida.\n",
        "municipios.count()"
      ],
      "execution_count": null,
      "outputs": [
        {
          "output_type": "execute_result",
          "data": {
            "text/plain": [
              "COD_IBGE    4614\n",
              "dtype: int64"
            ]
          },
          "metadata": {
            "tags": []
          },
          "execution_count": 17
        }
      ]
    },
    {
      "cell_type": "markdown",
      "metadata": {
        "id": "GeF25Xy7G9cR",
        "colab_type": "text"
      },
      "source": [
        "## Objetivo: Conhecer os recursos para o processamento de arquivos com a biblioteca Pandas."
      ]
    }
  ]
}